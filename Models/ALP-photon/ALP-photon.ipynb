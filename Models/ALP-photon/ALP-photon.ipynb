{
 "cells": [
  {
   "cell_type": "markdown",
   "metadata": {},
   "source": [
    "# FORESEE Models: ALP with Photon Couplings"
   ]
  },
  {
   "cell_type": "markdown",
   "metadata": {},
   "source": [
    "## Load Libraries "
   ]
  },
  {
   "cell_type": "code",
   "execution_count": 23,
   "metadata": {
    "ExecuteTime": {
     "end_time": "2023-12-12T15:30:44.451359Z",
     "start_time": "2023-12-12T15:30:43.491150Z"
    }
   },
   "outputs": [],
   "source": [
    "import sys, os\n",
    "src_path = \"../../\"\n",
    "sys.path.append(src_path)\n",
    "\n",
    "import numpy as np\n",
    "from src.foresee import Foresee, Utility, Model\n",
    "from matplotlib import pyplot as plt"
   ]
  },
  {
   "cell_type": "markdown",
   "metadata": {},
   "source": [
    "## 1. Specifying the Model"
   ]
  },
  {
   "cell_type": "markdown",
   "metadata": {},
   "source": [
    "The phenomenology of the ALP with $\\gamma$-couplings can be described by the following Lagrangian\n",
    "\n",
    "\\begin{equation}\n",
    " \\mathcal{L} = - \\frac{1}{2} \\color{red}{m_{a}}^2 a^2  - \\frac{\\color{red}{g}}{4}a F^a_{\\mu\\nu} \\tilde F^a_{\\mu\\nu}\n",
    "\\end{equation}\n",
    "\n",
    "with the ALP mass $m_a$ and the coupling parameter $g$ as free parameters."
   ]
  },
  {
   "cell_type": "code",
   "execution_count": 24,
   "metadata": {
    "ExecuteTime": {
     "end_time": "2023-12-12T15:30:44.969317Z",
     "start_time": "2023-12-12T15:30:44.965107Z"
    }
   },
   "outputs": [],
   "source": [
    "energy = \"13.6\"\n",
    "modelname = \"ALP-photon\"\n",
    "model = Model(modelname)"
   ]
  },
  {
   "cell_type": "markdown",
   "metadata": {},
   "source": [
    "**Production** The ALP is mainly produced via the Primakoff Process. This process describes the conversion of a photon into an ALP in the presence of a strong electromagnetic field, for example close to a nucleus inside a medium. Following [1806.02348](https://arxiv.org/pdf/1806.02348.pdf) Eq (6), the conversion probability is given by \n",
    "\n",
    "\\begin{equation}\n",
    " P(\\gamma \\to a) = \\frac{1}{\\sigma_{SM}} \\int\n",
    "  g^2 \\frac{\\alpha Z^2}{4} \\times F(t)^2 \\times \\frac{p_a^4 \\theta^4}{t^2} d\\log\\theta\n",
    "\\end{equation}\n",
    "\n",
    "where $\\sigma_{SM}\\sim 5$ barn, the ALP momentum $p_a \\approx E_\\gamma$, $t = m_a^4 / (2E_\\gamma^2) + E_\\gamma^2 \\theta^2$ and the form factor is given by $F(t) = a^2t/(1+a^2t)$ for $t<7.39m_e^2$ and $F(t) = 1/(1+t/d)$ for $t>7.39m_e^2$. To a good approximation, $\\vec{p}_a = \\vec{p}_\\gamma$, so we can treat this as an $\\gamma \\to a$ conversion. For practical purposes, we will assume the concersion takes place in iron, which is the material of the TAN. \n",
    "\n",
    "Let us first define a conversion factor formula (where, in a slight abuse of notation, we define a mixing angle as $\\sqrt{ P(\\gamma \\to a)}$). "
   ]
  },
  {
   "cell_type": "code",
   "execution_count": 25,
   "metadata": {
    "ExecuteTime": {
     "end_time": "2023-12-12T15:30:45.761123Z",
     "start_time": "2023-12-12T15:30:45.751946Z"
    }
   },
   "outputs": [],
   "source": [
    "def conversion_factor(mass, coupling, p0):\n",
    "\n",
    "    #define quantities\n",
    "    alpha, me, ZFe, AFe = 1./137., 0.000511, 26, 56\n",
    "    a, d  = 111.*ZFe**(-1./3.) / me,  0.164 * AFe**(-2./3.)\n",
    "    SMXSinIGeV2 = 13311.9696379 \n",
    "\n",
    "    # integration boundaries theta \n",
    "    logthmin, logthmax, nlogth = -12, 0, 20\n",
    "    dlogth = (logthmax-logthmin)/float(nlogth)\n",
    "        \n",
    "    # conversion probability \n",
    "    xs_primakoff = 0\n",
    "    k = p0.e\n",
    "    for ltheta in np.linspace(logthmin+0.5*dlogth,logthmax-0.5*dlogth,nlogth):\n",
    "        theta = 10**ltheta\n",
    "        t = mass**4 / (2.*k**2) + k**2 * theta**2\n",
    "        if t<7.39*me*me: ff = a*a*t/(1.+a*a*t)\n",
    "        else: ff = 1./(1.+t/d)\n",
    "        xs_primakoff += alpha * ZFe**2 / 4. * ff**2 * k**4 * np.sin(theta)**3 *theta / t**2 * dlogth * np.log(10)\n",
    "    prob = xs_primakoff / SMXSinIGeV2\n",
    "    if np.isnan(prob): prob=0\n",
    "        \n",
    "    # return\n",
    "    return np.sqrt(prob)"
   ]
  },
  {
   "cell_type": "markdown",
   "metadata": {},
   "source": [
    "We can now set up ALP production via the Primakoff process, where we model photon production using `EPOSLHC`, `SIBYLL`,  `QGSJET` and `PYTHIA-forward`. "
   ]
  },
  {
   "cell_type": "code",
   "execution_count": 26,
   "metadata": {
    "ExecuteTime": {
     "end_time": "2023-12-12T15:30:46.540383Z",
     "start_time": "2023-12-12T15:30:46.536979Z"
    }
   },
   "outputs": [],
   "source": [
    "model.add_production_mixing(\n",
    "    label='Primakoff',\n",
    "    pid = \"22\",\n",
    "    mixing = conversion_factor,\n",
    "    # generator=['EPOSLHC', 'SIBYLL', 'QGSJET', 'Pythia8-Forward'],\n",
    "    generator=['Pythia8-Forward'],\n",
    "    energy = energy,\n",
    ")"
   ]
  },
  {
   "cell_type": "markdown",
   "metadata": {},
   "source": [
    "**Decay:** ALPs mainly decay to a pair of photons. "
   ]
  },
  {
   "cell_type": "code",
   "execution_count": 27,
   "metadata": {
    "ExecuteTime": {
     "end_time": "2023-12-12T15:30:47.243745Z",
     "start_time": "2023-12-12T15:30:47.235099Z"
    }
   },
   "outputs": [],
   "source": [
    "model.set_ctau_1d(\n",
    "    filename=\"model/ctau.txt\", \n",
    ")\n",
    "\n",
    "decay_modes = [\"gamma\", \"eegamma\"] \n",
    "model.set_br_1d(\n",
    "    modes = decay_modes,\n",
    "    finalstates=[[22,22], [11,-11,22]],\n",
    "    filenames=[\"model/br/\"+mode+\".txt\" for mode in decay_modes],\n",
    ")"
   ]
  },
  {
   "cell_type": "markdown",
   "metadata": {},
   "source": [
    "We can now initiate FORESEE with the model that we just created. "
   ]
  },
  {
   "cell_type": "code",
   "execution_count": 28,
   "metadata": {
    "ExecuteTime": {
     "end_time": "2023-12-12T15:30:48.905560Z",
     "start_time": "2023-12-12T15:30:47.960896Z"
    }
   },
   "outputs": [],
   "source": [
    "foresee = Foresee(path=src_path)\n",
    "foresee.set_model(model=model)\n",
    "\n",
    "# foresee_shifted = Foresee(path=src_path)\n",
    "# foresee_shifted.set_model(model=model)"
   ]
  },
  {
   "cell_type": "markdown",
   "metadata": {},
   "source": [
    "## 2. Event Generation"
   ]
  },
  {
   "cell_type": "markdown",
   "metadata": {},
   "source": [
    "In the following, we want to study one specific benchmark point with $m_{A'}=50$ MeV and $g=2\\cdot 10^{-4}$ GeV$^{-1}$ and export events as a HEPMC file. "
   ]
  },
  {
   "cell_type": "code",
   "execution_count": 15,
   "metadata": {
    "ExecuteTime": {
     "end_time": "2023-12-12T15:30:50.426767Z",
     "start_time": "2023-12-12T15:30:50.422319Z"
    }
   },
   "outputs": [],
   "source": [
    "mass, coupling, = 0.03, 2e-3"
   ]
  },
  {
   "cell_type": "markdown",
   "metadata": {},
   "source": [
    "First, we will produce the corresponding flux for this mass and a reference coupling $g_{ref}=1$. "
   ]
  },
  {
   "cell_type": "code",
   "execution_count": 16,
   "metadata": {
    "ExecuteTime": {
     "end_time": "2023-12-12T15:18:17.887605Z",
     "start_time": "2023-12-12T15:18:15.326665Z"
    }
   },
   "outputs": [
    {
     "name": "stdout",
     "output_type": "stream",
     "text": [
      "save data to file: ./model/LLP_spectra/13.6TeV_Primakoff_Pythia8-Forward_m_0.03.npy\n"
     ]
    },
    {
     "data": {
      "image/png": "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\n",
      "text/plain": [
       "<Figure size 504x396 with 2 Axes>"
      ]
     },
     "metadata": {
      "needs_background": "light"
     },
     "output_type": "display_data"
    }
   ],
   "source": [
    "plot=foresee.get_llp_spectrum(mass=mass, coupling=1, do_plot=True)\n",
    "plot.savefig(\"Spectrum_\"+modelname+\".pdf\")\n",
    "plot.show()"
   ]
  },
  {
   "cell_type": "markdown",
   "metadata": {},
   "source": [
    "Next, let us define the configuration of the detector (in terms of position, size and luminosity). Here we choose FASER during 2022/2023. Note that we use the option `distance_prod` to indicate that the LLPs are not produced at the IP. "
   ]
  },
  {
   "cell_type": "code",
   "execution_count": 7,
   "metadata": {
    "ExecuteTime": {
     "end_time": "2023-12-12T15:30:54.436715Z",
     "start_time": "2023-12-12T15:30:54.431749Z"
    }
   },
   "outputs": [],
   "source": [
    "foresee.set_detector(\n",
    "    distance=474,\n",
    "    distance_prod = 140,\n",
    "    selection=\"np.sqrt(x.x**2 + (x.y+0.065)**2)< .1\", \n",
    "    length=4.0, \n",
    "    luminosity=57.7, \n",
    ")\n",
    "\n",
    "foresee_shifted.set_detector(\n",
    "    distance=474,\n",
    "    distance_prod = 140,\n",
    "    selection=\"np.sqrt(x.x**2 + (x.y+0.0775)**2)< .1\", \n",
    "    length=4.0, \n",
    "    luminosity=57.7, \n",
    ")"
   ]
  },
  {
   "cell_type": "code",
   "execution_count": 8,
   "metadata": {},
   "outputs": [
    {
     "name": "stdout",
     "output_type": "stream",
     "text": [
      "save data to file: ./model/LLP_spectra/13.6TeV_Primakoff_Pythia8-Forward_m_0.03.npy\n",
      "save data to file: ./model/LLP_spectra/13.6TeV_Primakoff_Pythia8-Forward_m_0.07.npy\n"
     ]
    }
   ],
   "source": [
    "mass_list = [0.03 , 0.07]\n",
    "\n",
    "for mass in mass_list: foresee.get_llp_spectrum(mass=mass,coupling=1)"
   ]
  },
  {
   "cell_type": "code",
   "execution_count": 9,
   "metadata": {},
   "outputs": [
    {
     "name": "stdout",
     "output_type": "stream",
     "text": [
      "mass = 3.000e-02 epsilon = 2.000e-03\n",
      "default =  2.784e+00\n",
      "shifted 2.460e+00\n",
      "% difference = -1.164e+01 %\n",
      "\n",
      "mass = 3.000e-02 epsilon = 3.000e-04\n",
      "default =  1.927e+01\n",
      "shifted 1.565e+01\n",
      "% difference = -1.880e+01 %\n",
      "\n",
      "mass = 7.000e-02 epsilon = 1.500e-04\n",
      "default =  3.959e+00\n",
      "shifted 3.977e+00\n",
      "% difference = 4.604e-01 %\n",
      "\n"
     ]
    }
   ],
   "source": [
    "mass_list = [0.03 , 0.03 , 0.07]\n",
    "coupling_list=[\n",
    "    [2e-3],\n",
    "    [3e-4],\n",
    "    [1.5e-4]\n",
    "]\n",
    "\n",
    "for mass, coupling in zip(mass_list, coupling_list):\n",
    "    # print (mass)\n",
    "    # print (coupling)\n",
    "    output = foresee.get_events(mass=mass, energy=energy, couplings=coupling, preselectioncuts = \"th<0.01 and p>1500\")\n",
    "    coups, ctaus, nsigs, momenta, weights = output\n",
    "\n",
    "    output = foresee_shifted.get_events(mass=mass, energy=energy, couplings=coupling, preselectioncuts = \"th<0.01 and p>1500\")\n",
    "    coups, ctaus, nsigs_shifted, momenta, weights = output\n",
    "    \n",
    "    for coup,ctau,nsig,nsig_shifted in zip(coups, ctaus, nsigs, nsigs_shifted):\n",
    "        \n",
    "        print (\"mass =\", '{:5.3e}'.format(mass),\"epsilon =\", '{:5.3e}'.format(coup))\n",
    "        print ('default = ',\"{:5.3e}\".format(nsig[0]))\n",
    "        # print (\"{:5.3e}\".format(nsig[0]))\n",
    "        print ('shifted', '{:5.3e}'.format(nsig_shifted[0]))\n",
    "        # print ('{:5.3e}'.format(nsig_shifted[0]))\n",
    "        percent_diff = ( nsig_shifted[0] - nsig[0] ) / nsig[0] * 100\n",
    "        print (\"% difference =\", '{:5.3e}'.format(percent_diff),\"%\")\n",
    "        print ()\n",
    "\n"
   ]
  },
  {
   "cell_type": "code",
   "execution_count": 29,
   "metadata": {},
   "outputs": [
    {
     "name": "stdout",
     "output_type": "stream",
     "text": [
      "np.sqrt(x.x**2 + (x.y-0.06672)**2)< 0.1 and p.z>1500\n",
      "np.sqrt(x.x**2 + (x.y-0.06576)**2)< 0.1 and p.z>1500\n",
      "np.sqrt(x.x**2 + (x.y-0.06528)**2)< 0.1 and p.z>1500\n",
      "np.sqrt(x.x**2 + (x.y-0.06432)**2)< 0.1 and p.z>1500\n",
      "np.sqrt(x.x**2 + (x.y-0.06384)**2)< 0.1 and p.z>1500\n",
      "np.sqrt(x.x**2 + (x.y-0.06288)**2)< 0.1 and p.z>1500\n",
      "np.sqrt(x.x**2 + (x.y-0.0624)**2)< 0.1 and p.z>1500\n",
      "np.sqrt(x.x**2 + (x.y-0.06144)**2)< 0.1 and p.z>1500\n",
      "np.sqrt(x.x**2 + (x.y-0.06096)**2)< 0.1 and p.z>1500\n",
      "np.sqrt(x.x**2 + (x.y-0.06)**2)< 0.1 and p.z>1500\n",
      "np.sqrt(x.x**2 + (x.y-0.05952)**2)< 0.1 and p.z>1500\n",
      "np.sqrt(x.x**2 + (x.y-0.05856)**2)< 0.1 and p.z>1500\n",
      "np.sqrt(x.x**2 + (x.y-0.05808)**2)< 0.1 and p.z>1500\n",
      "np.sqrt(x.x**2 + (x.y-0.05712)**2)< 0.1 and p.z>1500\n",
      "np.sqrt(x.x**2 + (x.y-0.05664)**2)< 0.1 and p.z>1500\n",
      "np.sqrt(x.x**2 + (x.y-0.05568)**2)< 0.1 and p.z>1500\n",
      "np.sqrt(x.x**2 + (x.y-0.0552)**2)< 0.1 and p.z>1500\n",
      "np.sqrt(x.x**2 + (x.y-0.05424)**2)< 0.1 and p.z>1500\n",
      "np.sqrt(x.x**2 + (x.y-0.05376)**2)< 0.1 and p.z>1500\n",
      "np.sqrt(x.x**2 + (x.y-0.0528)**2)< 0.1 and p.z>1500\n",
      "default - 2022\n",
      "default - 2023\n"
     ]
    }
   ],
   "source": [
    "## Lumi weighted N for 2023\n",
    "\n",
    "fraction_list = [0.11, 0.0023, 0.0019, 0.438, 0.053, 0.049, 0.050, 0.057, 0.046, \\\n",
    "0.042, 0.0357, 0.0062, 0.0184, 0.0172, 0.0223, 0.013, 0.005, 0.010, \\\n",
    "0.009, 0.004]\n",
    "y_displacement_list = [0.06672, 0.06576, 0.06528, 0.06432, 0.06384, 0.06288, 0.0624, \\\n",
    "0.06144, 0.06096, 0.06, 0.05952, 0.05856, 0.05808, 0.05712, 0.05664, \\\n",
    "0.05568, 0.0552, 0.05424, 0.05376, 0.0528]\n",
    "\n",
    "mass = 0.07\n",
    "coupling = [1.5e-4]\n",
    "\n",
    "nsig_list = []\n",
    "\n",
    "for y_displacement, fraction in zip(y_displacement_list, fraction_list):\n",
    "    luminosity, distance = 30*fraction , 480\n",
    "    selection, channels, length = \"np.sqrt(x.x**2 + (x.y-\"+str(y_displacement)+\")**2)< 0.1 and p.z>1500\", [\"gamma\"], 3.5\n",
    "    print (selection)\n",
    "    foresee.set_detector(length=length, selection=selection, channels=channels, distance=distance, luminosity=luminosity)\n",
    "\n",
    "    output = foresee.get_events(mass=mass, energy=energy, couplings=coupling, nsample=100)\n",
    "    coups, ctaus, nsigs, momenta, weights = output\n",
    "    nsig_list.append(nsigs[0])\n",
    "\n",
    "# default - 2022\n",
    "print ('default - 2022')\n",
    "luminosity, distance = 27.7*1 , 480\n",
    "selection, channels, length = \"np.sqrt(x.x**2 + (x.y-0.06432)**2)< 0.1 and p.z>1500\", [\"gamma\"], 3.5\n",
    "foresee.set_detector(length=length, selection=selection, channels=channels, distance=distance, luminosity=luminosity)\n",
    "\n",
    "output = foresee.get_events(mass=mass, energy=energy, couplings=coupling, nsample=100)\n",
    "coups, ctaus, nsigs, momenta, weights = output\n",
    "nsig_default_2022=nsigs[0][0]\n",
    "\n",
    "# default - 2023\n",
    "print ('default - 2023')\n",
    "luminosity, distance = 30*1 , 480\n",
    "selection, channels, length = \"np.sqrt(x.x**2 + (x.y-0.06432)**2)< 0.1 and p.z>1500\", [\"gamma\"], 3.5\n",
    "foresee.set_detector(length=length, selection=selection, channels=channels, distance=distance, luminosity=luminosity)\n",
    "\n",
    "output = foresee.get_events(mass=mass, energy=energy, couplings=coupling, nsample=100)\n",
    "coups, ctaus, nsigs, momenta, weights = output\n",
    "nsig_default_2023=nsigs[0][0]"
   ]
  },
  {
   "cell_type": "code",
   "execution_count": 30,
   "metadata": {},
   "outputs": [
    {
     "name": "stdout",
     "output_type": "stream",
     "text": [
      "Ntotal = 1.8348010330647986\n",
      "Ndefault = 1.8434743829139442\n",
      "Delta =-0.47\n"
     ]
    }
   ],
   "source": [
    "# print ('{:.2f}'.format(nsig_default_2022))\n",
    "# print ('{:.2f}'.format(nsig_default_2023))\n",
    "\n",
    "Ntotal=nsig_default_2022\n",
    "for index,_ in enumerate(nsig_list):\n",
    "\n",
    "    Ntotal = (Ntotal + nsig_list[index])[0]\n",
    "\n",
    "print ('Ntotal =', Ntotal)\n",
    "print ('Ndefault =', nsig_default_2022 + nsig_default_2023)\n",
    "\n",
    "print ('Delta ={:.2f}'.format( (Ntotal - (nsig_default_2022 + nsig_default_2023))/(nsig_default_2022 + nsig_default_2023)*100 ) )"
   ]
  },
  {
   "cell_type": "code",
   "execution_count": null,
   "metadata": {},
   "outputs": [],
   "source": []
  },
  {
   "cell_type": "code",
   "execution_count": 32,
   "metadata": {},
   "outputs": [
    {
     "name": "stdout",
     "output_type": "stream",
     "text": [
      "All at -160\n"
     ]
    }
   ],
   "source": [
    "### All at -160\n",
    "print ('All at -160')\n",
    "luminosity, distance = 1*57.7 , 480\n",
    "selection, channels, length = \"np.sqrt(x.x**2 + (x.y-0.06432)**2)< 0.1 and p.z>1500\", [\"gamma\"], 3.5\n",
    "foresee.set_detector(length=length, selection=selection, channels=channels, distance=distance, luminosity=luminosity)\n",
    "\n",
    "output = foresee.get_events(mass=mass, energy=energy, couplings=coupling, nsample=100)\n",
    "coups, ctaus, nsigs, momenta, weights = output\n",
    "nsig_default=nsigs[0][0]\n",
    "\n"
   ]
  },
  {
   "cell_type": "code",
   "execution_count": 33,
   "metadata": {},
   "outputs": [
    {
     "name": "stdout",
     "output_type": "stream",
     "text": [
      "1.861274652890589\n"
     ]
    }
   ],
   "source": [
    "print (nsig_default)"
   ]
  },
  {
   "cell_type": "code",
   "execution_count": 35,
   "metadata": {},
   "outputs": [
    {
     "name": "stdout",
     "output_type": "stream",
     "text": [
      "0.75 at -160\n",
      "0.25 at -135\n",
      "1.8922749477841072\n"
     ]
    }
   ],
   "source": [
    "### 0.75 at -160\n",
    "print ('0.75 at -160')\n",
    "luminosity, distance = 0.75*57.7 , 480\n",
    "selection, channels, length = \"np.sqrt(x.x**2 + (x.y-0.06432)**2)< 0.1 and p.z>1500\", [\"gamma\"], 3.5\n",
    "foresee.set_detector(length=length, selection=selection, channels=channels, distance=distance, luminosity=luminosity)\n",
    "\n",
    "output = foresee.get_events(mass=mass, energy=energy, couplings=coupling, nsample=100)\n",
    "coups, ctaus, nsigs, momenta, weights = output\n",
    "nsig_160=nsigs[0][0]\n",
    "\n",
    "print ('0.25 at -135')\n",
    "luminosity, distance = 0.25*57.7 , 480\n",
    "selection, channels, length = \"np.sqrt(x.x**2 + (x.y-0.0528)**2)< 0.1 and p.z>1500\", [\"gamma\"], 3.5\n",
    "foresee.set_detector(length=length, selection=selection, channels=channels, distance=distance, luminosity=luminosity)\n",
    "\n",
    "output = foresee.get_events(mass=mass, energy=energy, couplings=coupling, nsample=100)\n",
    "coups, ctaus, nsigs, momenta, weights = output\n",
    "nsig_135=nsigs[0][0]\n",
    "\n",
    "nsig_total1=nsig_160+nsig_135\n",
    "\n",
    "print (nsig_total1)"
   ]
  },
  {
   "cell_type": "code",
   "execution_count": 36,
   "metadata": {},
   "outputs": [
    {
     "name": "stdout",
     "output_type": "stream",
     "text": [
      "0.25 at -160\n",
      "0.75 at -135\n",
      "1.9623827638108686\n"
     ]
    }
   ],
   "source": [
    "### 0.25 at -160\n",
    "print ('0.25 at -160')\n",
    "luminosity, distance = 0.25*57.7 , 480\n",
    "selection, channels, length = \"np.sqrt(x.x**2 + (x.y-0.06432)**2)< 0.1 and p.z>1500\", [\"gamma\"], 3.5\n",
    "foresee.set_detector(length=length, selection=selection, channels=channels, distance=distance, luminosity=luminosity)\n",
    "\n",
    "output = foresee.get_events(mass=mass, energy=energy, couplings=coupling, nsample=100)\n",
    "coups, ctaus, nsigs, momenta, weights = output\n",
    "nsig_160=nsigs[0][0]\n",
    "\n",
    "print ('0.75 at -135')\n",
    "luminosity, distance = 0.75*57.7 , 480\n",
    "selection, channels, length = \"np.sqrt(x.x**2 + (x.y-0.0528)**2)< 0.1 and p.z>1500\", [\"gamma\"], 3.5\n",
    "foresee.set_detector(length=length, selection=selection, channels=channels, distance=distance, luminosity=luminosity)\n",
    "\n",
    "output = foresee.get_events(mass=mass, energy=energy, couplings=coupling, nsample=100)\n",
    "coups, ctaus, nsigs, momenta, weights = output\n",
    "nsig_135=nsigs[0][0]\n",
    "\n",
    "nsig_total2=nsig_160+nsig_135\n",
    "\n",
    "print (nsig_total2)"
   ]
  },
  {
   "cell_type": "code",
   "execution_count": 42,
   "metadata": {},
   "outputs": [
    {
     "name": "stdout",
     "output_type": "stream",
     "text": [
      "1 at -135\n",
      "2.00909714289383\n"
     ]
    }
   ],
   "source": [
    "### all at -135\n",
    "print ('1 at -135')\n",
    "luminosity, distance = 1*57.7 , 480\n",
    "selection, channels, length = \"np.sqrt(x.x**2 + (x.y-0.0528)**2)< 0.1 and p.z>1500\", [\"gamma\"], 3.5\n",
    "foresee.set_detector(length=length, selection=selection, channels=channels, distance=distance, luminosity=luminosity)\n",
    "\n",
    "output = foresee.get_events(mass=mass, energy=energy, couplings=coupling, nsample=100)\n",
    "coups, ctaus, nsigs, momenta, weights = output\n",
    "nsig_135=nsigs[0][0]\n",
    "\n",
    "nsig_total3=nsig_135\n",
    "\n",
    "print (nsig_total3)"
   ]
  },
  {
   "cell_type": "code",
   "execution_count": 43,
   "metadata": {},
   "outputs": [],
   "source": [
    "delta1=(nsig_total1-nsig_default)/nsig_default * 100\n",
    "delta2=(nsig_total2-nsig_default)/nsig_default * 100\n",
    "delta3=(nsig_total3-nsig_default)/nsig_default * 100"
   ]
  },
  {
   "cell_type": "code",
   "execution_count": 44,
   "metadata": {},
   "outputs": [
    {
     "name": "stdout",
     "output_type": "stream",
     "text": [
      "1.6655411303954653\n",
      "5.432197272082178\n",
      "7.942003066214333\n"
     ]
    }
   ],
   "source": [
    "print (delta1)\n",
    "print (delta2)\n",
    "print (delta3)"
   ]
  },
  {
   "cell_type": "code",
   "execution_count": null,
   "metadata": {},
   "outputs": [],
   "source": []
  },
  {
   "cell_type": "markdown",
   "metadata": {},
   "source": [
    "For our benchmark point, let us now look at how many particle decay inside the decay volume. We also export 1000 unweighted events as a HEPMC file. "
   ]
  },
  {
   "cell_type": "code",
   "execution_count": 25,
   "metadata": {
    "ExecuteTime": {
     "end_time": "2023-12-12T15:31:14.890597Z",
     "start_time": "2023-12-12T15:30:56.080458Z"
    }
   },
   "outputs": [
    {
     "name": "stdout",
     "output_type": "stream",
     "text": [
      "Expected number of events for PYTHIA: 2.936\n"
     ]
    }
   ],
   "source": [
    "# setupnames = ['EPOSLHC', 'SIBYLL', 'QGSJET', 'PYTHIA']\n",
    "# modes = {'Primakoff': ['EPOSLHC', 'SIBYLL', 'QGSJET', 'Pythia8-Forward']}\n",
    "\n",
    "setupnames = ['PYTHIA']\n",
    "modes = {'Primakoff': ['Pythia8-Forward']}\n",
    "\n",
    "momenta, weights, _ = foresee.write_events(\n",
    "    mass = mass, \n",
    "    coupling = coupling, \n",
    "    energy = energy, \n",
    "    numberevent = 1000,\n",
    "    filename = \"model/events/test.hepmc\", \n",
    "    return_data = True,\n",
    "    weightnames=setupnames,\n",
    "    modes=modes,\n",
    "    nsample=100,\n",
    ")\n",
    "\n",
    "for isetup, setup in enumerate(setupnames):\n",
    "    print(\"Expected number of events for \"+setup+\":\", round(sum(weights[:,isetup]),3))"
   ]
  },
  {
   "cell_type": "markdown",
   "metadata": {},
   "source": [
    "Let us plot the resulting energy distribution"
   ]
  },
  {
   "cell_type": "code",
   "execution_count": 11,
   "metadata": {
    "ExecuteTime": {
     "end_time": "2023-12-12T15:20:38.917206Z",
     "start_time": "2023-12-12T15:20:38.564820Z"
    }
   },
   "outputs": [
    {
     "data": {
      "image/png": "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\n",
      "text/plain": [
       "<Figure size 504x360 with 1 Axes>"
      ]
     },
     "metadata": {
      "needs_background": "light"
     },
     "output_type": "display_data"
    }
   ],
   "source": [
    "fig = plt.figure(figsize=(7,5))\n",
    "ax = plt.subplot(1,1,1)\n",
    "energies = [p.e for p in momenta], \n",
    "for isetup, setup in enumerate(setupnames):\n",
    "    ax.hist(energies, weights=weights[:,isetup], bins=np.logspace(2,4, 20+1), histtype='step', label=setup) \n",
    "ax.set_xscale(\"log\")\n",
    "ax.set_xlim(1e2,1e4) \n",
    "ax.set_xlabel(\"E [GeV]\") \n",
    "ax.set_ylabel(\"Number of Events per Bin\") \n",
    "ax.legend(frameon=False, labelspacing=0, fontsize=14, loc='upper left')\n",
    "plt.savefig(\"E_distribution_\"+modelname+\".pdf\")\n",
    "plt.show()"
   ]
  },
  {
   "cell_type": "markdown",
   "metadata": {},
   "source": [
    "## 3. Sensitivity Reach"
   ]
  },
  {
   "cell_type": "markdown",
   "metadata": {},
   "source": [
    "In the following, we will obtain the projected sensitivity for the LLP model. For this, we first define a grid of couplings and masses, and then produce the corresponding fluxes. "
   ]
  },
  {
   "cell_type": "code",
   "execution_count": 12,
   "metadata": {
    "ExecuteTime": {
     "end_time": "2023-12-12T15:31:22.854926Z",
     "start_time": "2023-12-12T15:31:22.848860Z"
    },
    "scrolled": true
   },
   "outputs": [
    {
     "name": "stdout",
     "output_type": "stream",
     "text": [
      "save data to file: ./model/LLP_spectra/13.6TeV_Primakoff_EPOSLHC_m_0.01.npy\n",
      "save data to file: ./model/LLP_spectra/13.6TeV_Primakoff_SIBYLL_m_0.01.npy\n",
      "save data to file: ./model/LLP_spectra/13.6TeV_Primakoff_QGSJET_m_0.01.npy\n",
      "save data to file: ./model/LLP_spectra/13.6TeV_Primakoff_Pythia8-Forward_m_0.01.npy\n",
      "save data to file: ./model/LLP_spectra/13.6TeV_Primakoff_EPOSLHC_m_0.01119.npy\n",
      "save data to file: ./model/LLP_spectra/13.6TeV_Primakoff_SIBYLL_m_0.01119.npy\n",
      "save data to file: ./model/LLP_spectra/13.6TeV_Primakoff_QGSJET_m_0.01119.npy\n",
      "save data to file: ./model/LLP_spectra/13.6TeV_Primakoff_Pythia8-Forward_m_0.01119.npy\n",
      "save data to file: ./model/LLP_spectra/13.6TeV_Primakoff_EPOSLHC_m_0.01252.npy\n",
      "save data to file: ./model/LLP_spectra/13.6TeV_Primakoff_SIBYLL_m_0.01252.npy\n",
      "save data to file: ./model/LLP_spectra/13.6TeV_Primakoff_QGSJET_m_0.01252.npy\n",
      "save data to file: ./model/LLP_spectra/13.6TeV_Primakoff_Pythia8-Forward_m_0.01252.npy\n",
      "save data to file: ./model/LLP_spectra/13.6TeV_Primakoff_EPOSLHC_m_0.01401.npy\n",
      "save data to file: ./model/LLP_spectra/13.6TeV_Primakoff_SIBYLL_m_0.01401.npy\n",
      "save data to file: ./model/LLP_spectra/13.6TeV_Primakoff_QGSJET_m_0.01401.npy\n",
      "save data to file: ./model/LLP_spectra/13.6TeV_Primakoff_Pythia8-Forward_m_0.01401.npy\n",
      "save data to file: ./model/LLP_spectra/13.6TeV_Primakoff_EPOSLHC_m_0.01567.npy\n",
      "save data to file: ./model/LLP_spectra/13.6TeV_Primakoff_SIBYLL_m_0.01567.npy\n",
      "save data to file: ./model/LLP_spectra/13.6TeV_Primakoff_QGSJET_m_0.01567.npy\n",
      "save data to file: ./model/LLP_spectra/13.6TeV_Primakoff_Pythia8-Forward_m_0.01567.npy\n",
      "save data to file: ./model/LLP_spectra/13.6TeV_Primakoff_EPOSLHC_m_0.01753.npy\n",
      "save data to file: ./model/LLP_spectra/13.6TeV_Primakoff_SIBYLL_m_0.01753.npy\n",
      "save data to file: ./model/LLP_spectra/13.6TeV_Primakoff_QGSJET_m_0.01753.npy\n",
      "save data to file: ./model/LLP_spectra/13.6TeV_Primakoff_Pythia8-Forward_m_0.01753.npy\n",
      "save data to file: ./model/LLP_spectra/13.6TeV_Primakoff_EPOSLHC_m_0.01962.npy\n",
      "save data to file: ./model/LLP_spectra/13.6TeV_Primakoff_SIBYLL_m_0.01962.npy\n",
      "save data to file: ./model/LLP_spectra/13.6TeV_Primakoff_QGSJET_m_0.01962.npy\n",
      "save data to file: ./model/LLP_spectra/13.6TeV_Primakoff_Pythia8-Forward_m_0.01962.npy\n",
      "save data to file: ./model/LLP_spectra/13.6TeV_Primakoff_EPOSLHC_m_0.02195.npy\n",
      "save data to file: ./model/LLP_spectra/13.6TeV_Primakoff_SIBYLL_m_0.02195.npy\n",
      "save data to file: ./model/LLP_spectra/13.6TeV_Primakoff_QGSJET_m_0.02195.npy\n",
      "save data to file: ./model/LLP_spectra/13.6TeV_Primakoff_Pythia8-Forward_m_0.02195.npy\n",
      "save data to file: ./model/LLP_spectra/13.6TeV_Primakoff_EPOSLHC_m_0.02456.npy\n",
      "save data to file: ./model/LLP_spectra/13.6TeV_Primakoff_SIBYLL_m_0.02456.npy\n",
      "save data to file: ./model/LLP_spectra/13.6TeV_Primakoff_QGSJET_m_0.02456.npy\n",
      "save data to file: ./model/LLP_spectra/13.6TeV_Primakoff_Pythia8-Forward_m_0.02456.npy\n",
      "save data to file: ./model/LLP_spectra/13.6TeV_Primakoff_EPOSLHC_m_0.02748.npy\n",
      "save data to file: ./model/LLP_spectra/13.6TeV_Primakoff_SIBYLL_m_0.02748.npy\n",
      "save data to file: ./model/LLP_spectra/13.6TeV_Primakoff_QGSJET_m_0.02748.npy\n",
      "save data to file: ./model/LLP_spectra/13.6TeV_Primakoff_Pythia8-Forward_m_0.02748.npy\n",
      "save data to file: ./model/LLP_spectra/13.6TeV_Primakoff_EPOSLHC_m_0.03075.npy\n",
      "save data to file: ./model/LLP_spectra/13.6TeV_Primakoff_SIBYLL_m_0.03075.npy\n",
      "save data to file: ./model/LLP_spectra/13.6TeV_Primakoff_QGSJET_m_0.03075.npy\n",
      "save data to file: ./model/LLP_spectra/13.6TeV_Primakoff_Pythia8-Forward_m_0.03075.npy\n",
      "save data to file: ./model/LLP_spectra/13.6TeV_Primakoff_EPOSLHC_m_0.0344.npy\n",
      "save data to file: ./model/LLP_spectra/13.6TeV_Primakoff_SIBYLL_m_0.0344.npy\n",
      "save data to file: ./model/LLP_spectra/13.6TeV_Primakoff_QGSJET_m_0.0344.npy\n",
      "save data to file: ./model/LLP_spectra/13.6TeV_Primakoff_Pythia8-Forward_m_0.0344.npy\n",
      "save data to file: ./model/LLP_spectra/13.6TeV_Primakoff_EPOSLHC_m_0.03849.npy\n",
      "save data to file: ./model/LLP_spectra/13.6TeV_Primakoff_SIBYLL_m_0.03849.npy\n",
      "save data to file: ./model/LLP_spectra/13.6TeV_Primakoff_QGSJET_m_0.03849.npy\n",
      "save data to file: ./model/LLP_spectra/13.6TeV_Primakoff_Pythia8-Forward_m_0.03849.npy\n",
      "save data to file: ./model/LLP_spectra/13.6TeV_Primakoff_EPOSLHC_m_0.04307.npy\n",
      "save data to file: ./model/LLP_spectra/13.6TeV_Primakoff_SIBYLL_m_0.04307.npy\n",
      "save data to file: ./model/LLP_spectra/13.6TeV_Primakoff_QGSJET_m_0.04307.npy\n",
      "save data to file: ./model/LLP_spectra/13.6TeV_Primakoff_Pythia8-Forward_m_0.04307.npy\n",
      "save data to file: ./model/LLP_spectra/13.6TeV_Primakoff_EPOSLHC_m_0.04819.npy\n",
      "save data to file: ./model/LLP_spectra/13.6TeV_Primakoff_SIBYLL_m_0.04819.npy\n",
      "save data to file: ./model/LLP_spectra/13.6TeV_Primakoff_QGSJET_m_0.04819.npy\n",
      "save data to file: ./model/LLP_spectra/13.6TeV_Primakoff_Pythia8-Forward_m_0.04819.npy\n",
      "save data to file: ./model/LLP_spectra/13.6TeV_Primakoff_EPOSLHC_m_0.05391.npy\n",
      "save data to file: ./model/LLP_spectra/13.6TeV_Primakoff_SIBYLL_m_0.05391.npy\n",
      "save data to file: ./model/LLP_spectra/13.6TeV_Primakoff_QGSJET_m_0.05391.npy\n",
      "save data to file: ./model/LLP_spectra/13.6TeV_Primakoff_Pythia8-Forward_m_0.05391.npy\n",
      "save data to file: ./model/LLP_spectra/13.6TeV_Primakoff_EPOSLHC_m_0.06032.npy\n",
      "save data to file: ./model/LLP_spectra/13.6TeV_Primakoff_SIBYLL_m_0.06032.npy\n",
      "save data to file: ./model/LLP_spectra/13.6TeV_Primakoff_QGSJET_m_0.06032.npy\n",
      "save data to file: ./model/LLP_spectra/13.6TeV_Primakoff_Pythia8-Forward_m_0.06032.npy\n",
      "save data to file: ./model/LLP_spectra/13.6TeV_Primakoff_EPOSLHC_m_0.06749.npy\n",
      "save data to file: ./model/LLP_spectra/13.6TeV_Primakoff_SIBYLL_m_0.06749.npy\n",
      "save data to file: ./model/LLP_spectra/13.6TeV_Primakoff_QGSJET_m_0.06749.npy\n",
      "save data to file: ./model/LLP_spectra/13.6TeV_Primakoff_Pythia8-Forward_m_0.06749.npy\n",
      "save data to file: ./model/LLP_spectra/13.6TeV_Primakoff_EPOSLHC_m_0.07552.npy\n",
      "save data to file: ./model/LLP_spectra/13.6TeV_Primakoff_SIBYLL_m_0.07552.npy\n",
      "save data to file: ./model/LLP_spectra/13.6TeV_Primakoff_QGSJET_m_0.07552.npy\n",
      "save data to file: ./model/LLP_spectra/13.6TeV_Primakoff_Pythia8-Forward_m_0.07552.npy\n",
      "save data to file: ./model/LLP_spectra/13.6TeV_Primakoff_EPOSLHC_m_0.08449.npy\n",
      "save data to file: ./model/LLP_spectra/13.6TeV_Primakoff_SIBYLL_m_0.08449.npy\n",
      "save data to file: ./model/LLP_spectra/13.6TeV_Primakoff_QGSJET_m_0.08449.npy\n",
      "save data to file: ./model/LLP_spectra/13.6TeV_Primakoff_Pythia8-Forward_m_0.08449.npy\n",
      "save data to file: ./model/LLP_spectra/13.6TeV_Primakoff_EPOSLHC_m_0.09454.npy\n",
      "save data to file: ./model/LLP_spectra/13.6TeV_Primakoff_SIBYLL_m_0.09454.npy\n",
      "save data to file: ./model/LLP_spectra/13.6TeV_Primakoff_QGSJET_m_0.09454.npy\n",
      "save data to file: ./model/LLP_spectra/13.6TeV_Primakoff_Pythia8-Forward_m_0.09454.npy\n",
      "save data to file: ./model/LLP_spectra/13.6TeV_Primakoff_EPOSLHC_m_0.10578.npy\n",
      "save data to file: ./model/LLP_spectra/13.6TeV_Primakoff_SIBYLL_m_0.10578.npy\n",
      "save data to file: ./model/LLP_spectra/13.6TeV_Primakoff_QGSJET_m_0.10578.npy\n",
      "save data to file: ./model/LLP_spectra/13.6TeV_Primakoff_Pythia8-Forward_m_0.10578.npy\n",
      "save data to file: ./model/LLP_spectra/13.6TeV_Primakoff_EPOSLHC_m_0.11835.npy\n",
      "save data to file: ./model/LLP_spectra/13.6TeV_Primakoff_SIBYLL_m_0.11835.npy\n",
      "save data to file: ./model/LLP_spectra/13.6TeV_Primakoff_QGSJET_m_0.11835.npy\n",
      "save data to file: ./model/LLP_spectra/13.6TeV_Primakoff_Pythia8-Forward_m_0.11835.npy\n",
      "save data to file: ./model/LLP_spectra/13.6TeV_Primakoff_EPOSLHC_m_0.13242.npy\n",
      "save data to file: ./model/LLP_spectra/13.6TeV_Primakoff_SIBYLL_m_0.13242.npy\n",
      "save data to file: ./model/LLP_spectra/13.6TeV_Primakoff_QGSJET_m_0.13242.npy\n",
      "save data to file: ./model/LLP_spectra/13.6TeV_Primakoff_Pythia8-Forward_m_0.13242.npy\n",
      "save data to file: ./model/LLP_spectra/13.6TeV_Primakoff_EPOSLHC_m_0.14816.npy\n",
      "save data to file: ./model/LLP_spectra/13.6TeV_Primakoff_SIBYLL_m_0.14816.npy\n",
      "save data to file: ./model/LLP_spectra/13.6TeV_Primakoff_QGSJET_m_0.14816.npy\n",
      "save data to file: ./model/LLP_spectra/13.6TeV_Primakoff_Pythia8-Forward_m_0.14816.npy\n",
      "save data to file: ./model/LLP_spectra/13.6TeV_Primakoff_EPOSLHC_m_0.16577.npy\n",
      "save data to file: ./model/LLP_spectra/13.6TeV_Primakoff_SIBYLL_m_0.16577.npy\n",
      "save data to file: ./model/LLP_spectra/13.6TeV_Primakoff_QGSJET_m_0.16577.npy\n"
     ]
    },
    {
     "name": "stdout",
     "output_type": "stream",
     "text": [
      "save data to file: ./model/LLP_spectra/13.6TeV_Primakoff_Pythia8-Forward_m_0.16577.npy\n",
      "save data to file: ./model/LLP_spectra/13.6TeV_Primakoff_EPOSLHC_m_0.18548.npy\n",
      "save data to file: ./model/LLP_spectra/13.6TeV_Primakoff_SIBYLL_m_0.18548.npy\n",
      "save data to file: ./model/LLP_spectra/13.6TeV_Primakoff_QGSJET_m_0.18548.npy\n",
      "save data to file: ./model/LLP_spectra/13.6TeV_Primakoff_Pythia8-Forward_m_0.18548.npy\n",
      "save data to file: ./model/LLP_spectra/13.6TeV_Primakoff_EPOSLHC_m_0.20753.npy\n",
      "save data to file: ./model/LLP_spectra/13.6TeV_Primakoff_SIBYLL_m_0.20753.npy\n",
      "save data to file: ./model/LLP_spectra/13.6TeV_Primakoff_QGSJET_m_0.20753.npy\n",
      "save data to file: ./model/LLP_spectra/13.6TeV_Primakoff_Pythia8-Forward_m_0.20753.npy\n",
      "save data to file: ./model/LLP_spectra/13.6TeV_Primakoff_EPOSLHC_m_0.2322.npy\n",
      "save data to file: ./model/LLP_spectra/13.6TeV_Primakoff_SIBYLL_m_0.2322.npy\n",
      "save data to file: ./model/LLP_spectra/13.6TeV_Primakoff_QGSJET_m_0.2322.npy\n",
      "save data to file: ./model/LLP_spectra/13.6TeV_Primakoff_Pythia8-Forward_m_0.2322.npy\n",
      "save data to file: ./model/LLP_spectra/13.6TeV_Primakoff_EPOSLHC_m_0.2598.npy\n",
      "save data to file: ./model/LLP_spectra/13.6TeV_Primakoff_SIBYLL_m_0.2598.npy\n",
      "save data to file: ./model/LLP_spectra/13.6TeV_Primakoff_QGSJET_m_0.2598.npy\n",
      "save data to file: ./model/LLP_spectra/13.6TeV_Primakoff_Pythia8-Forward_m_0.2598.npy\n",
      "save data to file: ./model/LLP_spectra/13.6TeV_Primakoff_EPOSLHC_m_0.29068.npy\n",
      "save data to file: ./model/LLP_spectra/13.6TeV_Primakoff_SIBYLL_m_0.29068.npy\n",
      "save data to file: ./model/LLP_spectra/13.6TeV_Primakoff_QGSJET_m_0.29068.npy\n",
      "save data to file: ./model/LLP_spectra/13.6TeV_Primakoff_Pythia8-Forward_m_0.29068.npy\n",
      "save data to file: ./model/LLP_spectra/13.6TeV_Primakoff_EPOSLHC_m_0.32523.npy\n",
      "save data to file: ./model/LLP_spectra/13.6TeV_Primakoff_SIBYLL_m_0.32523.npy\n",
      "save data to file: ./model/LLP_spectra/13.6TeV_Primakoff_QGSJET_m_0.32523.npy\n",
      "save data to file: ./model/LLP_spectra/13.6TeV_Primakoff_Pythia8-Forward_m_0.32523.npy\n",
      "save data to file: ./model/LLP_spectra/13.6TeV_Primakoff_EPOSLHC_m_0.36389.npy\n",
      "save data to file: ./model/LLP_spectra/13.6TeV_Primakoff_SIBYLL_m_0.36389.npy\n",
      "save data to file: ./model/LLP_spectra/13.6TeV_Primakoff_QGSJET_m_0.36389.npy\n",
      "save data to file: ./model/LLP_spectra/13.6TeV_Primakoff_Pythia8-Forward_m_0.36389.npy\n",
      "save data to file: ./model/LLP_spectra/13.6TeV_Primakoff_EPOSLHC_m_0.40715.npy\n",
      "save data to file: ./model/LLP_spectra/13.6TeV_Primakoff_SIBYLL_m_0.40715.npy\n",
      "save data to file: ./model/LLP_spectra/13.6TeV_Primakoff_QGSJET_m_0.40715.npy\n",
      "save data to file: ./model/LLP_spectra/13.6TeV_Primakoff_Pythia8-Forward_m_0.40715.npy\n",
      "save data to file: ./model/LLP_spectra/13.6TeV_Primakoff_EPOSLHC_m_0.45555.npy\n",
      "save data to file: ./model/LLP_spectra/13.6TeV_Primakoff_SIBYLL_m_0.45555.npy\n",
      "save data to file: ./model/LLP_spectra/13.6TeV_Primakoff_QGSJET_m_0.45555.npy\n",
      "save data to file: ./model/LLP_spectra/13.6TeV_Primakoff_Pythia8-Forward_m_0.45555.npy\n",
      "save data to file: ./model/LLP_spectra/13.6TeV_Primakoff_EPOSLHC_m_0.5097.npy\n",
      "save data to file: ./model/LLP_spectra/13.6TeV_Primakoff_SIBYLL_m_0.5097.npy\n",
      "save data to file: ./model/LLP_spectra/13.6TeV_Primakoff_QGSJET_m_0.5097.npy\n",
      "save data to file: ./model/LLP_spectra/13.6TeV_Primakoff_Pythia8-Forward_m_0.5097.npy\n",
      "save data to file: ./model/LLP_spectra/13.6TeV_Primakoff_EPOSLHC_m_0.57029.npy\n",
      "save data to file: ./model/LLP_spectra/13.6TeV_Primakoff_SIBYLL_m_0.57029.npy\n",
      "save data to file: ./model/LLP_spectra/13.6TeV_Primakoff_QGSJET_m_0.57029.npy\n",
      "save data to file: ./model/LLP_spectra/13.6TeV_Primakoff_Pythia8-Forward_m_0.57029.npy\n",
      "save data to file: ./model/LLP_spectra/13.6TeV_Primakoff_EPOSLHC_m_0.63808.npy\n",
      "save data to file: ./model/LLP_spectra/13.6TeV_Primakoff_SIBYLL_m_0.63808.npy\n",
      "save data to file: ./model/LLP_spectra/13.6TeV_Primakoff_QGSJET_m_0.63808.npy\n",
      "save data to file: ./model/LLP_spectra/13.6TeV_Primakoff_Pythia8-Forward_m_0.63808.npy\n",
      "save data to file: ./model/LLP_spectra/13.6TeV_Primakoff_EPOSLHC_m_0.71393.npy\n",
      "save data to file: ./model/LLP_spectra/13.6TeV_Primakoff_SIBYLL_m_0.71393.npy\n",
      "save data to file: ./model/LLP_spectra/13.6TeV_Primakoff_QGSJET_m_0.71393.npy\n",
      "save data to file: ./model/LLP_spectra/13.6TeV_Primakoff_Pythia8-Forward_m_0.71393.npy\n",
      "save data to file: ./model/LLP_spectra/13.6TeV_Primakoff_EPOSLHC_m_0.7988.npy\n",
      "save data to file: ./model/LLP_spectra/13.6TeV_Primakoff_SIBYLL_m_0.7988.npy\n",
      "save data to file: ./model/LLP_spectra/13.6TeV_Primakoff_QGSJET_m_0.7988.npy\n",
      "save data to file: ./model/LLP_spectra/13.6TeV_Primakoff_Pythia8-Forward_m_0.7988.npy\n",
      "save data to file: ./model/LLP_spectra/13.6TeV_Primakoff_EPOSLHC_m_0.89376.npy\n",
      "save data to file: ./model/LLP_spectra/13.6TeV_Primakoff_SIBYLL_m_0.89376.npy\n",
      "save data to file: ./model/LLP_spectra/13.6TeV_Primakoff_QGSJET_m_0.89376.npy\n",
      "save data to file: ./model/LLP_spectra/13.6TeV_Primakoff_Pythia8-Forward_m_0.89376.npy\n",
      "save data to file: ./model/LLP_spectra/13.6TeV_Primakoff_EPOSLHC_m_1.0.npy\n",
      "save data to file: ./model/LLP_spectra/13.6TeV_Primakoff_SIBYLL_m_1.0.npy\n",
      "save data to file: ./model/LLP_spectra/13.6TeV_Primakoff_QGSJET_m_1.0.npy\n",
      "save data to file: ./model/LLP_spectra/13.6TeV_Primakoff_Pythia8-Forward_m_1.0.npy\n"
     ]
    }
   ],
   "source": [
    "masses=[round(x,5) for x in np.logspace(-2,0,41+1)]\n",
    "couplings = np.logspace(-6,-2,81) \n",
    "\n",
    "for mass in masses: foresee.get_llp_spectrum(mass=mass,coupling=1)"
   ]
  },
  {
   "cell_type": "markdown",
   "metadata": {},
   "source": [
    "We can now plot the `production rate vs mass` using the `foresee.plot_production()` function."
   ]
  },
  {
   "cell_type": "code",
   "execution_count": 13,
   "metadata": {
    "ExecuteTime": {
     "end_time": "2023-12-12T15:31:41.050600Z",
     "start_time": "2023-12-12T15:31:26.570833Z"
    }
   },
   "outputs": [
    {
     "data": {
      "image/png": "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\n",
      "text/plain": [
       "<Figure size 504x360 with 1 Axes>"
      ]
     },
     "metadata": {
      "needs_background": "light"
     },
     "output_type": "display_data"
    }
   ],
   "source": [
    "productions=[\n",
    "    {\"channels\": [\"Primakoff\"], \"color\": \"red\", \"label\": r\"Primakoff\", \"generators\": [\"EPOSLHC\",\"QGSJET\",\"SIBYLL\",'Pythia8-Forward']  },\n",
    "]\n",
    "\n",
    "plot=foresee.plot_production(\n",
    "    masses = masses,\n",
    "    productions = productions,\n",
    "    energy=energy,\n",
    "    condition=\"logth<-3.7 and logp>2\",  \n",
    "    xlims=[0.01,1],ylims=[1e6,1e8],\n",
    "    xlabel=r\"Mass [GeV]\",\n",
    "    ylabel=r\"Production Rate $\\sigma/g^2$ [pb]\",\n",
    "    title=r\"$\\theta < 0.2$ mrad and $E > 100$ GeV\",\n",
    "    legendloc=(0.97,1),\n",
    "    fs_label=12,\n",
    "    ncol=2,\n",
    ")\n",
    "plot.savefig(\"Production_\"+modelname+\".pdf\")"
   ]
  },
  {
   "cell_type": "markdown",
   "metadata": {},
   "source": [
    "Let us now scan over various masses and couplings, and record the resulting number of evets. Note that here we again consider the FASER configuration, which we set up before."
   ]
  },
  {
   "cell_type": "code",
   "execution_count": 14,
   "metadata": {
    "ExecuteTime": {
     "end_time": "2023-12-12T17:54:19.855794Z",
     "start_time": "2023-12-12T15:39:36.966064Z"
    }
   },
   "outputs": [],
   "source": [
    "#get reach  \n",
    "list_nevents = {label:[] for label in setupnames}\n",
    "for mass in masses:\n",
    "    couplings, _, nevents, _, _  = foresee.get_events(mass=mass, energy=energy, couplings = couplings,modes=modes,nsample=10)\n",
    "    for i,label in enumerate(setupnames): list_nevents[label].append(nevents.T[i])  \n",
    "        \n",
    "#save results\n",
    "configuration='default'\n",
    "for label in setupnames: \n",
    "    result = np.array([masses,couplings,list_nevents[label]], dtype='object')\n",
    "    np.save(\"model/results/\"+energy+\"TeV_\"+configuration+\"_\"+label+\".npy\",result)"
   ]
  },
  {
   "cell_type": "markdown",
   "metadata": {},
   "source": [
    "We can now plot the results. For this, we first specify all detector setups for which we want to show result (filename in model/results directory, label, color, linestyle, opacity alpha for filled contours, required number of events)."
   ]
  },
  {
   "cell_type": "code",
   "execution_count": 15,
   "metadata": {
    "ExecuteTime": {
     "end_time": "2023-12-12T18:21:16.803535Z",
     "start_time": "2023-12-12T18:21:16.765777Z"
    }
   },
   "outputs": [],
   "source": [
    "setups = [ \n",
    "    [\"13.6TeV_default_EPOSLHC.npy\", \"EPOSLHC\" , \"red\"        ,  \"solid\"  , 0., 3],\n",
    "    [\"13.6TeV_default_SIBYLL.npy\" , \"SYBILL\"  , \"magenta\"    ,  \"solid\"  , 0., 3],\n",
    "    [\"13.6TeV_default_QGSJET.npy\" , \"QGSJET\"  , \"orange\"     ,  \"solid\"  , 0., 3],\n",
    "    [\"13.6TeV_default_PYTHIA.npy\" , \"PYTHIA\"  , \"salmon\"     ,  \"solid\"  , 0., 3],\n",
    "]"
   ]
  },
  {
   "cell_type": "markdown",
   "metadata": {},
   "source": [
    "Then we specify all the existing bounds, separating the bounds obtained by experimental collaboratios and theory recasts.  "
   ]
  },
  {
   "cell_type": "code",
   "execution_count": 16,
   "metadata": {
    "ExecuteTime": {
     "end_time": "2023-12-12T18:21:20.404345Z",
     "start_time": "2023-12-12T18:21:20.378277Z"
    }
   },
   "outputs": [],
   "source": [
    "bounds = [ \n",
    "    [\"bounds_BESIII.txt\", \"BESIII\"  , 0.210, 0.55*10**-3, 0],        \n",
    "    [\"bounds_Belle2.txt\", \"Belle2\"  , 0.210, 1.5*10**-3, 0 ],\n",
    "    [\"bounds_PrimEx.txt\", \"PrimEx\"  , 0.126, 1.2*10**-3, 90 ],\n",
    "    [\"bounds_LEP.txt\"   , \"LEP\"     , 0.080, 6.0*10**-3, 0  ],\n",
    "    [\"bounds_SN1987.txt\", \"SN1987\"  , 0.0105,6.0*10**-7, 0 ],\n",
    "    [\"bounds_E137.txt\"  , \"E137\"    , 2e-2, 6.0*10**-6, 0 ],\n",
    "    [\"bounds_NuCal.txt\" , \"NuCal\"   , 0.080, 5.0*10**-6, -15 ],\n",
    "    [\"bounds_CHARM.txt\" , \"CHARM\"   , 0.041, 3.0*10**-5, -45 ],\n",
    "    [\"bounds_NA64.txt\"  , \"NA64\"    , 0.035, 2.6*10**-4, 0 ],\n",
    "    [\"bounds_E141.txt\"  , \"E141\"    , 0.017, 1.7*10**-3, 0 ],\n",
    "]"
   ]
  },
  {
   "cell_type": "markdown",
   "metadata": {},
   "source": [
    "We then specify other projected sensitivitities (filename in model/bounds directory, color, label, label position x, label position y, label rotation)"
   ]
  },
  {
   "cell_type": "code",
   "execution_count": 17,
   "metadata": {
    "ExecuteTime": {
     "end_time": "2023-12-12T18:21:21.429466Z",
     "start_time": "2023-12-12T18:21:21.421325Z"
    }
   },
   "outputs": [],
   "source": [
    "projections = [\n",
    "    [\"limits_SHiP.txt\",         \"cyan\"       ,\"SHiP\"                 , 0.152, 2.30e-5, -45  ],\n",
    "    [\"limits_SeaQuest.txt\",     \"teal\"       ,\"SeaQuest\"             , 0.250, 8.00e-6, -48  ],\n",
    "    [\"limits_NA64.txt\",         \"turquoise\"  ,\"NA64\"                 , 0.2500, 1.0e-4, 0  ],\n",
    "    [\"limits_NA62.txt\",         \"dodgerblue\" ,\"NA62\"                 , 0.172, 1.0e-5, -45  ],\n",
    "    [\"limits_BelleII_inv.txt\",  \"blue\"       ,r\"Belle2 (1$\\gamma$) 50ab$^{-1}$\"  , 0.065, 1.50*10**-5, -45  ],\n",
    "    [\"limits_BelleII_3a.txt\",   \"blue\"       ,r\"Belle2 $3\\gamma$\"+ \"\\n\" +r\"50ab$^{-1}$\"  , 0.235, 3.00*10**-5, 0  ],\n",
    "    [\"limits_PrimEX.txt\",       \"skyblue\"    ,\"PrimEx\"               , 0.06, 0.7*10**-3, 0 ],\n",
    "    [\"limits_GlueX1pb.txt\",     \"deepskyblue\",\"GlueX\"                , 0.25, 2.5e-4, 0 ],\n",
    "    [\"limits_LUXE_NPOD1.txt\",   \"darkblue\"   ,\"LUXE NPOD\"            , 0.08, 1.0*10**-4, -42],\n",
    "]\n"
   ]
  },
  {
   "cell_type": "markdown",
   "metadata": {},
   "source": [
    "We also want to show the branching fractions for some of the channels (name of file in model/br directory, color, line style, label, x-position, y-position)  "
   ]
  },
  {
   "cell_type": "code",
   "execution_count": 18,
   "metadata": {
    "ExecuteTime": {
     "end_time": "2023-12-12T18:21:22.532258Z",
     "start_time": "2023-12-12T18:21:22.528477Z"
    }
   },
   "outputs": [],
   "source": [
    "branchings = [\n",
    "    [\"gamma\"    , \"black\", \"solid\", r\"$\\gamma\\gamma$\", 0.1, 0.3 ],\n",
    "    [\"eegamma\"  , \"blue\" , \"solid\", r\"$ee\\gamma$\"    , 0.1, 0.02],\n",
    "]"
   ]
  },
  {
   "cell_type": "markdown",
   "metadata": {},
   "source": [
    "Finally, we can plot everything using `foresee.plot_reach()`. Here we also add the dark matter relict target line obtained in [2105.07077](https://arxiv.org/abs/2105.07077)."
   ]
  },
  {
   "cell_type": "code",
   "execution_count": 19,
   "metadata": {
    "ExecuteTime": {
     "end_time": "2023-12-12T18:21:29.093852Z",
     "start_time": "2023-12-12T18:21:28.214531Z"
    }
   },
   "outputs": [
    {
     "data": {
      "image/png": "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\n",
      "text/plain": [
       "<Figure size 576x576 with 2 Axes>"
      ]
     },
     "metadata": {
      "needs_background": "light"
     },
     "output_type": "display_data"
    }
   ],
   "source": [
    "plot, ax, ax2 = foresee.plot_reach(\n",
    "    setups=setups,\n",
    "    bounds=bounds,\n",
    "    projections=projections,\n",
    "    title=\"ALP with photon coupling (BC9)\", \n",
    "    linewidths=2.5,\n",
    "    xlims=[0.01,4e-1], \n",
    "    ylims=[4e-6,1e-2],    \n",
    "    xlabel=r\"ALP mass $m_{a}$ [GeV]\", \n",
    "    ylabel=r\"ALP coupling $g_{a\\gamma\\gamma}$ [1/GeV]\",\n",
    "    legendloc=(0.4,0.30),\n",
    "    branchings=branchings,\n",
    "    figsize=(8,8),\n",
    ")\n",
    "\n",
    "plot.subplots_adjust(left=0.12, right=0.97, bottom=0.10, top=0.95)\n",
    "plot.savefig(\"Reach_\"+modelname+\".pdf\")\n",
    "plot.show()"
   ]
  },
  {
   "cell_type": "code",
   "execution_count": null,
   "metadata": {},
   "outputs": [],
   "source": []
  }
 ],
 "metadata": {
  "kernelspec": {
   "display_name": "Python 3 (ipykernel)",
   "language": "python",
   "name": "python3"
  },
  "language_info": {
   "codemirror_mode": {
    "name": "ipython",
    "version": 3
   },
   "file_extension": ".py",
   "mimetype": "text/x-python",
   "name": "python",
   "nbconvert_exporter": "python",
   "pygments_lexer": "ipython3",
<<<<<<< Updated upstream
   "version": "3.8.10"
=======
   "version": "3.10.5"
>>>>>>> Stashed changes
  },
  "toc": {
   "base_numbering": 1,
   "nav_menu": {
    "height": "734px",
    "width": "465px"
   },
   "number_sections": true,
   "sideBar": true,
   "skip_h1_title": false,
   "title_cell": "Table of Contents",
   "title_sidebar": "Contents",
   "toc_cell": false,
   "toc_position": {},
   "toc_section_display": true,
   "toc_window_display": false
  }
 },
 "nbformat": 4,
 "nbformat_minor": 4
}
